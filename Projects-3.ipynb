{
 "cells": [
  {
   "cell_type": "markdown",
   "id": "29b6029f",
   "metadata": {},
   "source": [
    "# Project 3 - Chat Gpt"
   ]
  },
  {
   "cell_type": "code",
   "execution_count": 26,
   "id": "3b06d28b",
   "metadata": {},
   "outputs": [
    {
     "name": "stdout",
     "output_type": "stream",
     "text": [
      "What would you like to ask?: My name is Aastha and my college name is Ramjas, write a sick leave for 3 days\n",
      "{'text': \"Subject: Sick Leave Application\\n\\nDear [Recipient's Name],\\n\\nI hope this email finds you in good health and high spirits. I am writing this letter to inform you about my current health condition and to request a sick leave for a duration of three days, starting from [Start Date] to [End Date].\\n\\nI have been feeling unwell for the past few days and have consulted a medical professional who has diagnosed me with [specific illness]. The doctor has advised me to take adequate rest and medication to ensure a speedy recovery. Considering this, I am unable to attend college during this period.\\n\\nAs a responsible student, I understand the importance of attending classes regularly and keeping up with the academic schedule. However, my health condition has deteriorated to a point where it is necessary for me to take this time off to recover fully. I assure you that I will make every effort to catch up on missed coursework and assignments upon my return.\\n\\nI have informed my classmates about my absence and requested them to share any important lecture notes or class materials with me during my sick leave. Additionally, I will be regularly checking my college email and online learning platform to stay updated with any announcements or assignments.\\n\\nI kindly request you to grant me a sick leave for the aforementioned period of three days. I will provide all necessary medical documentation upon my return, as per the college's policy. If there are any additional procedures or forms that need to be completed, please let me know, and I will promptly fulfill those requirements.\\n\\nThank you for your understanding and support during this time. I assure you that I will resume my regular attendance and academic responsibilities as soon as I am fit to do so.\\n\\nPlease feel free to contact me via email or phone if there are any further details or information required.\\n\\nThank you for your attention to this matter.\\n\\nYours sincerely,\\n\\nAastha\\nRamjas College\", 'finish_reason': 'stop', 'model': 'gpt-3.5-turbo-030'}\n",
      "Subject: Sick Leave Application\n",
      "\n",
      "Dear [Recipient's Name],\n",
      "\n",
      "I hope this email finds you in good health and high spirits. I am writing this letter to inform you about my current health condition and to request a sick leave for a duration of three days, starting from [Start Date] to [End Date].\n",
      "\n",
      "I have been feeling unwell for the past few days and have consulted a medical professional who has diagnosed me with [specific illness]. The doctor has advised me to take adequate rest and medication to ensure a speedy recovery. Considering this, I am unable to attend college during this period.\n",
      "\n",
      "As a responsible student, I understand the importance of attending classes regularly and keeping up with the academic schedule. However, my health condition has deteriorated to a point where it is necessary for me to take this time off to recover fully. I assure you that I will make every effort to catch up on missed coursework and assignments upon my return.\n",
      "\n",
      "I have informed my classmates about my absence and requested them to share any important lecture notes or class materials with me during my sick leave. Additionally, I will be regularly checking my college email and online learning platform to stay updated with any announcements or assignments.\n",
      "\n",
      "I kindly request you to grant me a sick leave for the aforementioned period of three days. I will provide all necessary medical documentation upon my return, as per the college's policy. If there are any additional procedures or forms that need to be completed, please let me know, and I will promptly fulfill those requirements.\n",
      "\n",
      "Thank you for your understanding and support during this time. I assure you that I will resume my regular attendance and academic responsibilities as soon as I am fit to do so.\n",
      "\n",
      "Please feel free to contact me via email or phone if there are any further details or information required.\n",
      "\n",
      "Thank you for your attention to this matter.\n",
      "\n",
      "Yours sincerely,\n",
      "\n",
      "Aastha\n",
      "Ramjas College\n"
     ]
    }
   ],
   "source": [
    "import http.client\n",
    "import json\n",
    "\n",
    "conn = http.client.HTTPSConnection(\"chatgpt-api8.p.rapidapi.com\")\n",
    "myinput=input(\"What would you like to ask?: \")\n",
    "\n",
    "payload = \"[\\r\\n    {\\r\\n        \\\"content\\\": \\\"\"+myinput+\"\\\",\\r\\n        \\\"role\\\": \\\"user\\\"\\r\\n    }\\r\\n]\"\n",
    "\n",
    "headers = {\n",
    "    'content-type': \"application/json\",\n",
    "    'X-RapidAPI-Key': \"4ff4e4ab7fmshc259bb6b8da396bp1485f7jsnc80c8d8f5c45\",\n",
    "    'X-RapidAPI-Host': \"chatgpt-api8.p.rapidapi.com\"\n",
    "}\n",
    "\n",
    "conn.request(\"POST\", \"/\", payload, headers)\n",
    "\n",
    "res = conn.getresponse()\n",
    "data = res.read()\n",
    "\n",
    "mydata=json.loads(data.decode(\"utf-8\"))\n",
    "print(mydata)\n",
    "print(mydata['text'])"
   ]
  },
  {
   "cell_type": "code",
   "execution_count": 27,
   "id": "079b6c65",
   "metadata": {},
   "outputs": [
    {
     "name": "stdout",
     "output_type": "stream",
     "text": [
      "Requirement already satisfied: pyttsx3 in c:\\users\\asus\\anaconda3\\lib\\site-packages (2.90)\n",
      "Requirement already satisfied: comtypes in c:\\users\\asus\\anaconda3\\lib\\site-packages (from pyttsx3) (1.2.0)\n",
      "Requirement already satisfied: pypiwin32 in c:\\users\\asus\\anaconda3\\lib\\site-packages (from pyttsx3) (223)\n",
      "Requirement already satisfied: pywin32 in c:\\users\\asus\\anaconda3\\lib\\site-packages (from pyttsx3) (305.1)\n",
      "Note: you may need to restart the kernel to use updated packages.\n"
     ]
    }
   ],
   "source": [
    "pip install pyttsx3"
   ]
  },
  {
   "cell_type": "code",
   "execution_count": 1,
   "id": "e71c2545",
   "metadata": {},
   "outputs": [
    {
     "name": "stdout",
     "output_type": "stream",
     "text": [
      "What would you like to ask?: Write a very short article on Python\n",
      "Python is a popular programming language that is widely used for various purposes. It is known for its simplicity and readability, making it a great choice for beginner programmers. Python's syntax is straightforward and easy to understand, allowing developers to write clean and concise code.\n",
      "\n",
      "One of the key advantages of Python is its extensive library support. There are numerous libraries available for almost any task, ranging from data analysis and machine learning to web development and game development. These libraries provide pre-built functions and modules that can be easily integrated into Python programs, saving developers time and effort.\n",
      "\n",
      "Python's versatility is another reason for its popularity. It can be used for a wide range of applications, including web development, scientific computing, and automation. Python's flexibility allows developers to switch between different projects and domains with ease.\n",
      "\n",
      "Another notable feature of Python is its strong community support. There is a large and active community of Python developers who contribute to its growth and development. This community provides resources, tutorials, and forums where developers can seek help and learn from others' experiences.\n",
      "\n",
      "Python is also cross-platform, meaning it can run on different operating systems such as Windows, macOS, and Linux. This makes it a convenient choice for developers, as they can write code once and run it on multiple platforms without any major modifications.\n",
      "\n",
      "In conclusion, Python is a versatile, user-friendly, and widely-used programming language. Its simplicity, extensive library support, and strong community make it a popular choice for both beginners and experienced developers alike. Whether you're a student learning programming or a professional looking to build complex applications, Python is definitely worth considering.\n"
     ]
    }
   ],
   "source": [
    "import http.client\n",
    "import pyttsx3\n",
    "import json\n",
    "\n",
    "chd = pyttsx3.init()\n",
    "chd.say('What would you like to ask?')\n",
    "chd.setProperty('rate',300)\n",
    "voices = chd.getProperty('voices')       \n",
    "chd.setProperty('voice', voices[1].id)\n",
    "chd.runAndWait()\n",
    "\n",
    "conn = http.client.HTTPSConnection(\"chatgpt-api8.p.rapidapi.com\")\n",
    "\n",
    "myinput=input(\"What would you like to ask?: \")\n",
    "\n",
    "payload = \"[\\r\\n    {\\r\\n        \\\"content\\\": \\\"\"+myinput+\"\\\",\\r\\n        \\\"role\\\": \\\"user\\\"\\r\\n    }\\r\\n]\"\n",
    "\n",
    "headers = {\n",
    "    'content-type': \"application/json\",\n",
    "    'X-RapidAPI-Key': \"4ff4e4ab7fmshc259bb6b8da396bp1485f7jsnc80c8d8f5c45\",\n",
    "    'X-RapidAPI-Host': \"chatgpt-api8.p.rapidapi.com\"\n",
    "}\n",
    "\n",
    "conn.request(\"POST\", \"/\", payload, headers)\n",
    "\n",
    "res = conn.getresponse()\n",
    "data = res.read()\n",
    "\n",
    "mydata=json.loads(data.decode(\"utf-8\"))\n",
    "print(mydata['text'])"
   ]
  },
  {
   "cell_type": "code",
   "execution_count": 1,
   "id": "a02d0e8b",
   "metadata": {},
   "outputs": [
    {
     "name": "stdout",
     "output_type": "stream",
     "text": [
      "What would you like to ask?: Write a very short article on India\n",
      "India, a land of diverse cultures, vibrant traditions, and remarkable history, is a country that captivates the imagination of travelers worldwide. Located in South Asia, India is the seventh-largest country by land area and the second-most populous country in the world.\n",
      "\n",
      "India's rich heritage dates back thousands of years, with evidence of early human settlements found in the Indus Valley Civilization. Over the centuries, various empires, including the Maurya, Gupta, and Mughal dynasties, have left their mark on the Indian subcontinent, shaping its unique cultural fabric.\n",
      "\n",
      "The country's cultural diversity is evident in its numerous languages, religions, and cuisines. India is home to several major religions, including Hinduism, Islam, Sikhism, Buddhism, and Jainism, among others. This religious diversity coexists harmoniously, creating a vibrant tapestry of customs and practices.\n",
      "\n",
      "With its breathtaking landscapes, India offers a range of experiences for travelers. From the snow-capped peaks of the Himalayas to the sun-kissed beaches of Goa, from the bustling cities of Delhi and Mumbai to the serene backwaters of Kerala, there is something for everyone.\n",
      "\n",
      "India's cuisine is renowned worldwide for its flavors and spices. Each region has its own distinct culinary traditions, offering a delightful array of dishes. Whether it's the spicy street food of Delhi, the aromatic biryanis of Hyderabad, or the rich curries of South India, food lovers are in for a treat.\n",
      "\n",
      "In recent years, India has emerged as a global economic powerhouse, with a growing presence in sectors such as technology, pharmaceuticals, and services. The country's young and dynamic workforce, coupled with a thriving startup ecosystem, has drawn the attention of international investors and businesses.\n",
      "\n",
      "While India has made significant progress in various fields, it also faces challenges such as poverty, healthcare, and infrastructure development. However, the resilience and spirit of its people continue to propel the nation forward, striving for a brighter future.\n",
      "\n",
      "India's allure lies in its ability to simultaneously embrace its ancient traditions and modern aspirations. Visitors are captivated by the vibrant colors, intricate architecture, and warm hospitality that are characteristic of the country.\n",
      "\n",
      "In conclusion, India offers a fascinating blend of history, culture, and natural beauty. Its diversity, both in terms of its people and its landscapes, makes it a truly captivating destination. From its majestic monuments to its mouthwatering cuisine, India leaves an indelible impression on all who visit.\n"
     ]
    }
   ],
   "source": [
    "import http.client\n",
    "import pyttsx3\n",
    "import json\n",
    "\n",
    "chd = pyttsx3.init()\n",
    "chd.say('What would you like to ask?')\n",
    "chd.setProperty('rate',300)\n",
    "voices = chd.getProperty('voices')       \n",
    "chd.setProperty('voice', voices[1].id)\n",
    "chd.runAndWait()\n",
    "\n",
    "conn = http.client.HTTPSConnection(\"chatgpt-api8.p.rapidapi.com\")\n",
    "\n",
    "myinput=input(\"What would you like to ask?: \")\n",
    "\n",
    "payload = \"[\\r\\n    {\\r\\n        \\\"content\\\": \\\"\"+myinput+\"\\\",\\r\\n        \\\"role\\\": \\\"user\\\"\\r\\n    }\\r\\n]\"\n",
    "\n",
    "headers = {\n",
    "    'content-type': \"application/json\",\n",
    "    'X-RapidAPI-Key': \"4ff4e4ab7fmshc259bb6b8da396bp1485f7jsnc80c8d8f5c45\",\n",
    "    'X-RapidAPI-Host': \"chatgpt-api8.p.rapidapi.com\"\n",
    "}\n",
    "\n",
    "conn.request(\"POST\", \"/\", payload, headers)\n",
    "\n",
    "res = conn.getresponse()\n",
    "data = res.read()\n",
    "\n",
    "mydata=json.loads(data.decode(\"utf-8\"))\n",
    "myanswer=mydata['text']\n",
    "print(myanswer)\n",
    "b = pyttsx3.init()\n",
    "b.say(myanswer)\n",
    "b.setProperty('rate',100)\n",
    "voices = b.getProperty('voices')       \n",
    "b.setProperty('voice', voices[1].id)\n",
    "b.runAndWait()"
   ]
  },
  {
   "cell_type": "code",
   "execution_count": null,
   "id": "31f5018b",
   "metadata": {},
   "outputs": [],
   "source": []
  }
 ],
 "metadata": {
  "kernelspec": {
   "display_name": "Python 3 (ipykernel)",
   "language": "python",
   "name": "python3"
  },
  "language_info": {
   "codemirror_mode": {
    "name": "ipython",
    "version": 3
   },
   "file_extension": ".py",
   "mimetype": "text/x-python",
   "name": "python",
   "nbconvert_exporter": "python",
   "pygments_lexer": "ipython3",
   "version": "3.11.4"
  }
 },
 "nbformat": 4,
 "nbformat_minor": 5
}
